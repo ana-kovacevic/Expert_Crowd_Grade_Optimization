{
 "cells": [
  {
   "cell_type": "markdown",
   "metadata": {},
   "source": [
    "### LIBRARIES"
   ]
  },
  {
   "cell_type": "code",
   "execution_count": 1,
   "metadata": {},
   "outputs": [],
   "source": [
    "import pandas as pd\n",
    "import numpy as np\n",
    "\n",
    "from scipy.optimize import linprog\n",
    "\n",
    "import warnings\n",
    "warnings.filterwarnings('ignore')\n",
    "\n",
    "%matplotlib inline\n",
    "import matplotlib.pyplot as plt"
   ]
  },
  {
   "cell_type": "markdown",
   "metadata": {},
   "source": [
    "### METHODS"
   ]
  },
  {
   "cell_type": "code",
   "execution_count": 2,
   "metadata": {},
   "outputs": [],
   "source": [
    "def get_vote(expert_votes, crowd_votes, lambda_expert, lambda_crowd):\n",
    "    # GOAL FUNCTION\n",
    "    w_expert = np.repeat(lambda_expert/len(expert_votes), len(expert_votes))\n",
    "    w_crowd = np.repeat(lambda_crowd/len(crowd_votes), len(crowd_votes))\n",
    "    w_grade = np.array([0])\n",
    "    \n",
    "    w = np.concatenate([w_expert, w_crowd, w_grade])\n",
    "    \n",
    "    # ABSOLUTE CONSTRAINTS - EXPERT\n",
    "    lhs_ineq_expert_ind = (len(w_expert), len(w))\n",
    "    lhs_ineq_expert_1 = np.zeros(lhs_ineq_expert_ind)\n",
    "    lhs_ineq_expert_2 = np.zeros(lhs_ineq_expert_ind)\n",
    "    \n",
    "    rhs_ineq_expert_1 = expert_votes\n",
    "    rhs_ineq_expert_2 = -expert_votes\n",
    "    \n",
    "    for i in range(lhs_ineq_expert_1.shape[0]):\n",
    "        lhs_ineq_expert_1[i, i] = -1\n",
    "        lhs_ineq_expert_1[i, len(w) - 1] = 1\n",
    "        \n",
    "        lhs_ineq_expert_2[i, i] = -1\n",
    "        lhs_ineq_expert_2[i, len(w) - 1] = -1\n",
    "   \n",
    "    # ABSOLUTE CONSTRAINTS - CROWD\n",
    "    lhs_ineq_crowd_ind = (len(w_crowd), len(w))\n",
    "    lhs_ineq_crowd_1 = np.zeros(lhs_ineq_crowd_ind)\n",
    "    lhs_ineq_crowd_2 = np.zeros(lhs_ineq_crowd_ind)\n",
    "    \n",
    "    rhs_ineq_crowd_1 = crowd_votes\n",
    "    rhs_ineq_crowd_2 = -crowd_votes\n",
    "    \n",
    "    for i in range(lhs_ineq_crowd_1.shape[0]):\n",
    "        lhs_ineq_crowd_1[i, len(expert_votes) + i] = -1\n",
    "        lhs_ineq_crowd_1[i, len(w) - 1] = 1\n",
    "        \n",
    "        lhs_ineq_crowd_2[i, len(expert_votes) + i] = -1\n",
    "        lhs_ineq_crowd_2[i, len(w) - 1] = -1\n",
    "        \n",
    "    # COMPILE\n",
    "    lhs_ineq = np.concatenate((lhs_ineq_expert_1, lhs_ineq_expert_2, lhs_ineq_crowd_1, lhs_ineq_crowd_2))\n",
    "    rhs_ineq = np.concatenate((rhs_ineq_expert_1, rhs_ineq_expert_2, rhs_ineq_crowd_1, rhs_ineq_crowd_2))\n",
    "    \n",
    "#     bnd = [(1, 5)] * len(w)\n",
    "    \n",
    "#     opt = linprog(c=w, A_ub=lhs_ineq, b_ub=rhs_ineq, bounds=bnd, method='interior-point')\n",
    "    opt = linprog(c=w, A_ub=lhs_ineq, b_ub=rhs_ineq, method='interior-point')\n",
    "    \n",
    "    return opt.x[len(w) - 1]"
   ]
  },
  {
   "cell_type": "code",
   "execution_count": 3,
   "metadata": {},
   "outputs": [],
   "source": [
    "def nash_bargaining_solution(expert_satisfaction, crowd_satisfaction):\n",
    "    lambda_importance = crowd_satisfaction/(crowd_satisfaction + expert_satisfaction)\n",
    "#     lambda_importance = 1/(1 + expert_satisfaction)\n",
    "\n",
    "    return lambda_importance\n",
    "\n",
    "def kalai_smorodinsky_solution(expert_s_1, crowd_s_1, expert_s_2, crowd_s_2):\n",
    "    max_expert = np.max([expert_s_1, expert_s_2])\n",
    "    max_crowd = np.max([crowd_s_1, crowd_s_2])\n",
    "    \n",
    "    lambda_importance = (max_expert * crowd_s_2 - max_crowd * expert_s_2)/(max_crowd * (expert_s_1 - expert_s_2) - max_expert * (crowd_s_1 - crowd_s_2))\n",
    "    \n",
    "    \n",
    "    return lambda_importance"
   ]
  },
  {
   "cell_type": "code",
   "execution_count": 4,
   "metadata": {},
   "outputs": [],
   "source": [
    "def expectation_maximization_nash(expert_votes, crowd_votes, num_iter = 100, verbose = False):\n",
    "    lambda_expert = 0.5\n",
    "    to_continue = True\n",
    "    iterator = 1\n",
    "    \n",
    "    while to_continue:\n",
    "        # FIND VOTE\n",
    "        vote = get_vote(expert_votes, crowd_votes, lambda_expert = lambda_expert, lambda_crowd = (1 - lambda_expert))\n",
    "    \n",
    "        # FIND LAMBDA\n",
    "        expert_satisfaction = np.mean(5 - np.abs(expert_votes - vote))\n",
    "        crowd_satisfaction = np.mean(5 - np.abs(crowd_votes - vote))\n",
    "    \n",
    "        new_lambda = nash_bargaining_solution(expert_satisfaction, crowd_satisfaction)\n",
    "        \n",
    "        if verbose:\n",
    "            print(new_lambda)\n",
    "        \n",
    "        # STOP CRITERIA\n",
    "        if lambda_expert == new_lambda:\n",
    "            to_continue = False\n",
    "        else:\n",
    "            lambda_expert = new_lambda\n",
    "            \n",
    "        iterator = iterator + 1\n",
    "        if iterator == num_iter:\n",
    "            to_continue = False\n",
    "    \n",
    "    return lambda_expert, vote, expert_satisfaction * crowd_satisfaction\n",
    "\n",
    "def maximization_kalai_smorodinsky(expert_votes, crowd_votes):\n",
    "    # FIND VOTE\n",
    "    vote_1 = get_vote(expert_votes, crowd_votes, lambda_expert = 1, lambda_crowd = 0)\n",
    "    vote_2 = get_vote(expert_votes, crowd_votes, lambda_expert = 0, lambda_crowd = 1)\n",
    "    \n",
    "    # FIND LAMBDA\n",
    "    expert_s_1 = np.mean(5 - np.abs(expert_votes - vote_1))\n",
    "    expert_s_2 = np.mean(5 - np.abs(expert_votes - vote_2))\n",
    "    crowd_s_1 = np.mean(5 - np.abs(crowd_votes - vote_1))\n",
    "    crowd_s_2 = np.mean(5 - np.abs(crowd_votes - vote_2))\n",
    "    \n",
    "    lambda_expert = kalai_smorodinsky_solution(expert_s_1, crowd_s_1, expert_s_2, crowd_s_2)\n",
    "    \n",
    "    vote = get_vote(expert_votes, crowd_votes, lambda_expert, 1 - lambda_expert)\n",
    "    \n",
    "    expert_satisfaction = np.mean(5 - np.abs(expert_votes - vote))\n",
    "    crowd_satisfaction = np.mean(5 - np.abs(crowd_votes - vote))\n",
    "    \n",
    "    return lambda_expert, vote, expert_satisfaction * crowd_satisfaction\n",
    "\n",
    "def expectation_maximization_kalai_smorodinsky(expert_votes, crowd_votes, num_iter = 100, decay = 0.1, verbose = False):\n",
    "    lambda_expert = 0.5\n",
    "    to_continue = True\n",
    "    iterator = 1\n",
    "    \n",
    "    while to_continue:\n",
    "        # FIND VOTE\n",
    "        decay_factor = decay * (iterator - 1)/num_iter\n",
    "        vote_1 = get_vote(expert_votes, crowd_votes, lambda_expert = 1 - decay_factor, lambda_crowd = 0 + decay_factor)\n",
    "        vote_2 = get_vote(expert_votes, crowd_votes, lambda_expert = 0 + decay_factor, lambda_crowd = 1 - decay_factor)\n",
    "    \n",
    "        # FIND LAMBDA\n",
    "        expert_s_1 = np.mean(5 - np.abs(expert_votes - vote_1))\n",
    "        expert_s_2 = np.mean(5 - np.abs(expert_votes - vote_2))\n",
    "        crowd_s_1 = np.mean(5 - np.abs(crowd_votes - vote_1))\n",
    "        crowd_s_2 = np.mean(5 - np.abs(crowd_votes - vote_2))\n",
    "    \n",
    "        new_lambda = kalai_smorodinsky_solution(expert_s_1, crowd_s_1, expert_s_2, crowd_s_2)\n",
    "        \n",
    "        if verbose:\n",
    "            print(new_lambda)\n",
    "        \n",
    "        # STOP CRITERIA\n",
    "        if lambda_expert == new_lambda:\n",
    "            to_continue = False\n",
    "        else:\n",
    "            lambda_expert = new_lambda\n",
    "            \n",
    "        vote = get_vote(expert_votes, crowd_votes, lambda_expert, 1 - lambda_expert)\n",
    "    \n",
    "        expert_satisfaction = np.mean(5 - np.abs(expert_votes - vote))\n",
    "        crowd_satisfaction = np.mean(5 - np.abs(crowd_votes - vote))\n",
    "            \n",
    "        iterator = iterator + 1\n",
    "        if iterator == num_iter:\n",
    "            to_continue = False\n",
    "    \n",
    "    return lambda_expert, vote, expert_satisfaction * crowd_satisfaction"
   ]
  },
  {
   "cell_type": "markdown",
   "metadata": {},
   "source": [
    "### EXAMPLE"
   ]
  },
  {
   "cell_type": "code",
   "execution_count": 5,
   "metadata": {},
   "outputs": [],
   "source": [
    "expert_votes = np.array([5, 5])\n",
    "crowd_votes = np.array([1, 1, 1, 1, 1, 1])"
   ]
  },
  {
   "cell_type": "code",
   "execution_count": 6,
   "metadata": {},
   "outputs": [
    {
     "name": "stdout",
     "output_type": "stream",
     "text": [
      "2.0610086186788226\n"
     ]
    }
   ],
   "source": [
    "lambda_expert = 0.5\n",
    "lambda_crowd = 0.5\n",
    "\n",
    "vote_fixed = get_vote(expert_votes, crowd_votes, lambda_expert, lambda_crowd)\n",
    "print(vote_fixed)"
   ]
  },
  {
   "cell_type": "code",
   "execution_count": 10,
   "metadata": {},
   "outputs": [
    {
     "name": "stdout",
     "output_type": "stream",
     "text": [
      "2.0610086186788226 3.9389913813211774 8.118295185804547\n"
     ]
    }
   ],
   "source": [
    "expert_satisfaction_fixed = np.mean(5 - np.abs(expert_votes - vote_fixed))\n",
    "crowd_satisfaction_fixed = np.mean(5 - np.abs(crowd_votes - vote_fixed))\n",
    "\n",
    "print(expert_satisfaction_fixed, crowd_satisfaction_fixed, expert_satisfaction_fixed * crowd_satisfaction_fixed)"
   ]
  },
  {
   "cell_type": "code",
   "execution_count": 11,
   "metadata": {},
   "outputs": [
    {
     "name": "stdout",
     "output_type": "stream",
     "text": [
      "0.6564985635535295\n"
     ]
    }
   ],
   "source": [
    "print(nash_bargaining_solution(expert_satisfaction_fixed, crowd_satisfaction_fixed))"
   ]
  },
  {
   "cell_type": "code",
   "execution_count": 12,
   "metadata": {},
   "outputs": [
    {
     "data": {
      "text/plain": [
       "(0.8333333232541177, 1.0000000604752943, 5.000000241901173)"
      ]
     },
     "execution_count": 12,
     "metadata": {},
     "output_type": "execute_result"
    }
   ],
   "source": [
    "results = expectation_maximization_nash(expert_votes, crowd_votes, verbose=False)\n",
    "results"
   ]
  },
  {
   "cell_type": "code",
   "execution_count": 13,
   "metadata": {},
   "outputs": [
    {
     "data": {
      "text/plain": [
       "(0.49999999999978667, 2.061008609941568, 8.118295169396134)"
      ]
     },
     "execution_count": 13,
     "metadata": {},
     "output_type": "execute_result"
    }
   ],
   "source": [
    "results = maximization_kalai_smorodinsky(expert_votes, crowd_votes)\n",
    "results"
   ]
  },
  {
   "cell_type": "code",
   "execution_count": 14,
   "metadata": {},
   "outputs": [
    {
     "data": {
      "text/plain": [
       "(0.5000000000341369, 2.061010016672035, 8.118297811209747)"
      ]
     },
     "execution_count": 14,
     "metadata": {},
     "output_type": "execute_result"
    }
   ],
   "source": [
    "results = expectation_maximization_kalai_smorodinsky(expert_votes, crowd_votes, verbose=False)\n",
    "results"
   ]
  },
  {
   "cell_type": "markdown",
   "metadata": {},
   "source": [
    "### Pareto Front"
   ]
  },
  {
   "cell_type": "code",
   "execution_count": 11,
   "metadata": {},
   "outputs": [],
   "source": [
    "expert_votes = np.array([5, 5, 5, 5])\n",
    "crowd_votes = np.array([1, 2, 2, 1, 3, 1, 2, 3, 2, 2, 4, 1])\n",
    "\n",
    "results = []\n",
    "\n",
    "for i in range(100):\n",
    "    vote = get_vote(expert_votes, crowd_votes, i/100, 1 - i/100)\n",
    "    \n",
    "    expert_satisfaction = np.mean(5 - np.abs(expert_votes - vote))\n",
    "    crowd_satisfaction = np.mean(5 - np.abs(crowd_votes - vote))\n",
    "    \n",
    "    results.append([i/100, vote, expert_satisfaction, crowd_satisfaction])\n",
    "    \n",
    "results = pd.DataFrame(results, columns=['Dot', 'Vote', 'Expert', 'Crowd'])"
   ]
  },
  {
   "cell_type": "code",
   "execution_count": 12,
   "metadata": {},
   "outputs": [
    {
     "data": {
      "text/plain": [
       "0.2857142857155079"
      ]
     },
     "execution_count": 12,
     "metadata": {},
     "output_type": "execute_result"
    }
   ],
   "source": [
    "nash_bargaining_solution(expert_satisfaction, crowd_satisfaction)"
   ]
  },
  {
   "cell_type": "code",
   "execution_count": 13,
   "metadata": {},
   "outputs": [
    {
     "data": {
      "text/plain": [
       "(0.5270270268329383, 4.999999979270031, 10.000000062189908)"
      ]
     },
     "execution_count": 13,
     "metadata": {},
     "output_type": "execute_result"
    }
   ],
   "source": [
    "maximization_kalai_smorodinsky(expert_votes, crowd_votes)"
   ]
  },
  {
   "cell_type": "code",
   "execution_count": 14,
   "metadata": {},
   "outputs": [
    {
     "data": {
      "text/plain": [
       "(0.28571428571773, 4.9999999999758895, 10.00000000007233)"
      ]
     },
     "execution_count": 14,
     "metadata": {},
     "output_type": "execute_result"
    }
   ],
   "source": [
    "expectation_maximization_nash(expert_votes, crowd_votes, verbose=False)"
   ]
  },
  {
   "cell_type": "code",
   "execution_count": 15,
   "metadata": {},
   "outputs": [
    {
     "data": {
      "text/plain": [
       "[<matplotlib.lines.Line2D at 0x298a5f1f588>]"
      ]
     },
     "execution_count": 15,
     "metadata": {},
     "output_type": "execute_result"
    },
    {
     "data": {
      "image/png": "[encoded data removed]",
      "text/plain": [
       "<Figure size 432x288 with 1 Axes>"
      ]
     },
     "metadata": {
      "needs_background": "light"
     },
     "output_type": "display_data"
    }
   ],
   "source": [
    "plt.plot(results['Expert'], results['Crowd'], markevery=[28], marker='o')"
   ]
  },
  {
   "cell_type": "code",
   "execution_count": 16,
   "metadata": {},
   "outputs": [
    {
     "data": {
      "text/plain": [
       "<matplotlib.collections.PathCollection at 0x298a5fbda58>"
      ]
     },
     "execution_count": 16,
     "metadata": {},
     "output_type": "execute_result"
    },
    {
     "data": {
      "image/png": "[encoded data removed]",
      "text/plain": [
       "<Figure size 432x288 with 1 Axes>"
      ]
     },
     "metadata": {
      "needs_background": "light"
     },
     "output_type": "display_data"
    }
   ],
   "source": [
    "plt.plot(results['Dot'], results['Vote'])\n",
    "plt.scatter(x=0, y=np.mean(crowd_votes), c='r')\n",
    "plt.scatter(x=1, y=np.mean(expert_votes), c='g')"
   ]
  },
  {
   "cell_type": "code",
   "execution_count": null,
   "metadata": {},
   "outputs": [],
   "source": []
  }
 ],
 "metadata": {
  "kernelspec": {
   "display_name": "Python 3",
   "language": "python",
   "name": "python3"
  },
  "language_info": {
   "codemirror_mode": {
    "name": "ipython",
    "version": 3
   },
   "file_extension": ".py",
   "mimetype": "text/x-python",
   "name": "python",
   "nbconvert_exporter": "python",
   "pygments_lexer": "ipython3",
   "version": "3.7.1"
  }
 },
 "nbformat": 4,
 "nbformat_minor": 2
}
