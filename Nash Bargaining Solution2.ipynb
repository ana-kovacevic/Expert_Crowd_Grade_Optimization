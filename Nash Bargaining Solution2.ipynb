{
 "cells": [
  {
   "cell_type": "code",
   "execution_count": 1,
   "metadata": {},
   "outputs": [],
   "source": [
    "import pandas as pd\n",
    "import numpy as np\n",
    "\n",
    "from scipy.optimize import optimize, dual_annealing, shgo, minimize"
   ]
  },
  {
   "cell_type": "code",
   "execution_count": 2,
   "metadata": {},
   "outputs": [],
   "source": [
    "expert_votes = np.array([4, 5, 2])\n",
    "crowd_votes = np.array([3, 2, 5, 2, 3, 2, 4, 5, 2, 5, 2, 1, 4, 3, 2, 1])"
   ]
  },
  {
   "cell_type": "markdown",
   "metadata": {},
   "source": [
    "#### METAHEURISTIC"
   ]
  },
  {
   "cell_type": "code",
   "execution_count": 3,
   "metadata": {},
   "outputs": [
    {
     "data": {
      "text/plain": [
       "[0, 0]"
      ]
     },
     "execution_count": 3,
     "metadata": {},
     "output_type": "execute_result"
    }
   ],
   "source": [
    "w_lambda = 0\n",
    "w_vote = 0\n",
    "\n",
    "w = [w_lambda, w_vote]\n",
    "w"
   ]
  },
  {
   "cell_type": "code",
   "execution_count": 4,
   "metadata": {},
   "outputs": [],
   "source": [
    "def goal_function(variables, expert_votes = expert_votes, crowd_votes = crowd_votes):\n",
    "    expert_side = variables[0] * np.mean(np.abs(expert_votes - variables[1]))\n",
    "    crowd_side = (1 - variables[0]) * np.mean(np.abs(crowd_votes - variables[1]))\n",
    "    \n",
    "    return expert_side + crowd_side"
   ]
  },
  {
   "cell_type": "code",
   "execution_count": 5,
   "metadata": {},
   "outputs": [
    {
     "data": {
      "text/plain": [
       "     fun: 1.000000000617628\n",
       " message: ['Maximum number of iteration reached']\n",
       "    nfev: 4223\n",
       "    nhev: 0\n",
       "     nit: 1000\n",
       "    njev: 0\n",
       "  status: 0\n",
       " success: True\n",
       "       x: array([1., 4.])"
      ]
     },
     "execution_count": 5,
     "metadata": {},
     "output_type": "execute_result"
    }
   ],
   "source": [
    "results = dual_annealing(goal_function, args=(expert_votes, crowd_votes), \n",
    "                         bounds=list(zip([0, 1], [1, 5])), \n",
    "                         maxiter=1000, seed=1989)\n",
    "\n",
    "results"
   ]
  },
  {
   "cell_type": "code",
   "execution_count": 6,
   "metadata": {},
   "outputs": [
    {
     "data": {
      "text/plain": [
       "     fun: 1.0000000024835267\n",
       "    funl: array([1.])\n",
       " message: 'Optimization terminated successfully.'\n",
       "    nfev: 131603\n",
       "     nit: 10\n",
       "   nlfev: 18\n",
       "   nlhev: 0\n",
       "   nljev: 2\n",
       " success: True\n",
       "       x: array([1.        , 3.99999999])\n",
       "      xl: array([[1.        , 3.99999999]])"
      ]
     },
     "execution_count": 6,
     "metadata": {},
     "output_type": "execute_result"
    }
   ],
   "source": [
    "results = shgo(goal_function, args=(expert_votes, crowd_votes), \n",
    "               bounds=list(zip([0, 1], [1, 5])), \n",
    "               n = 5, iters=10)\n",
    "\n",
    "results"
   ]
  },
  {
   "cell_type": "markdown",
   "metadata": {},
   "source": [
    "#### NASH"
   ]
  },
  {
   "cell_type": "code",
   "execution_count": 7,
   "metadata": {},
   "outputs": [],
   "source": [
    "expert_votes = np.array([5, 5, 5])\n",
    "crowd_votes = np.array([1, 1, 1])"
   ]
  },
  {
   "cell_type": "code",
   "execution_count": 8,
   "metadata": {},
   "outputs": [
    {
     "data": {
      "text/plain": [
       "[0.5, 0.5, 0]"
      ]
     },
     "execution_count": 8,
     "metadata": {},
     "output_type": "execute_result"
    }
   ],
   "source": [
    "w_lambda_1 = 0.5\n",
    "w_lambda_2 = 0.5\n",
    "w_vote = 0\n",
    "\n",
    "w = [w_lambda_1, w_lambda_2, w_vote]\n",
    "w"
   ]
  },
  {
   "cell_type": "code",
   "execution_count": 9,
   "metadata": {},
   "outputs": [],
   "source": [
    "def nash_solution(variables, expert_votes = expert_votes, crowd_votes = crowd_votes):\n",
    "    expert_side = np.log(variables[0]) + np.log(5 - np.mean(np.abs(expert_votes - variables[2])))\n",
    "    crowd_side = np.log(variables[1]) + np.log(5 - np.mean(np.abs(crowd_votes - variables[2])))\n",
    "    \n",
    "    return -1*(expert_side + crowd_side)\n",
    "\n",
    "def lambda_const(variables):\n",
    "    return variables[0] + variables[1] - 1"
   ]
  },
  {
   "cell_type": "code",
   "execution_count": 10,
   "metadata": {},
   "outputs": [
    {
     "data": {
      "text/plain": [
       "     fun: -0.8109302161368597\n",
       "     jac: array([-1.99999810e+00, -2.00000185e+00, -5.91576099e-06])\n",
       " message: 'Optimization terminated successfully.'\n",
       "    nfev: 30\n",
       "     nit: 6\n",
       "    njev: 6\n",
       "  status: 0\n",
       " success: True\n",
       "       x: array([0.50000047, 0.49999953, 2.9999734 ])"
      ]
     },
     "execution_count": 10,
     "metadata": {},
     "output_type": "execute_result"
    }
   ],
   "source": [
    "cons = [{'type':'eq', 'fun': lambda_const}]\n",
    "\n",
    "bnds = ((0.01, 0.99), (0.01, 0.99), (1, 5))\n",
    "\n",
    "results = minimize(nash_solution, w, \n",
    "                   constraints=cons, bounds=bnds, \n",
    "                   args=(expert_votes, crowd_votes), method='SLSQP')\n",
    "\n",
    "results"
   ]
  },
  {
   "cell_type": "code",
   "execution_count": null,
   "metadata": {},
   "outputs": [],
   "source": []
  }
 ],
 "metadata": {
  "kernelspec": {
   "display_name": "Python 3",
   "language": "python",
   "name": "python3"
  },
  "language_info": {
   "codemirror_mode": {
    "name": "ipython",
    "version": 3
   },
   "file_extension": ".py",
   "mimetype": "text/x-python",
   "name": "python",
   "nbconvert_exporter": "python",
   "pygments_lexer": "ipython3",
   "version": "3.7.3"
  }
 },
 "nbformat": 4,
 "nbformat_minor": 2
}
